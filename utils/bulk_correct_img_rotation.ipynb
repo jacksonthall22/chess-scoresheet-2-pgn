{
 "cells": [
  {
   "cell_type": "code",
   "execution_count": 1,
   "metadata": {},
   "outputs": [],
   "source": [
    "import os\n",
    "from PIL import Image\n",
    "import matplotlib.pyplot as plt\n",
    "from ipywidgets import widgets, interact\n",
    "\n",
    "# Directory containing the images\n",
    "IMAGE_DIR = \"data/Photos-001\"\n",
    "\n",
    "# Get list of all .png files in the directory\n",
    "IMAGE_FILES = [f for f in os.listdir(IMAGE_DIR) if f.endswith(\".jpg\")]\n",
    "\n",
    "\n",
    "# Function to display and rotate images\n",
    "def display_and_rotate(image_file):\n",
    "    img_path = os.path.join(IMAGE_DIR, image_file)\n",
    "    img = Image.open(img_path)\n",
    "\n",
    "    plt.imshow(img)\n",
    "    plt.axis(\"off\")\n",
    "    plt.show()\n",
    "\n",
    "    def rotate_image(rotation):\n",
    "        if rotation == \"Left\":\n",
    "            rotated_img = img.rotate(90, expand=True)\n",
    "        elif rotation == \"Right\":\n",
    "            rotated_img = img.rotate(-90, expand=True)\n",
    "        elif rotation == \"180\":\n",
    "            rotated_img = img.rotate(180, expand=True)\n",
    "        else:\n",
    "            rotated_img = img\n",
    "\n",
    "        rotated_img.save(img_path)\n",
    "\n",
    "    # Rotation options\n",
    "    rotation_options = widgets.RadioButtons(\n",
    "        options=[\"Correct\", \"Left\", \"Right\", \"180\"],\n",
    "        description=\"Rotate:\",\n",
    "        disabled=False,\n",
    "    )\n",
    "\n",
    "    # Update button\n",
    "    update_button = widgets.Button(description=\"Update\")\n",
    "\n",
    "    def on_button_click(b):\n",
    "        rotate_image(rotation_options.value)\n",
    "        display_and_rotate(image_file)\n",
    "\n",
    "    update_button.on_click(on_button_click)\n",
    "    \n",
    "    display(rotation_options, update_button)\n"
   ]
  },
  {
   "cell_type": "code",
   "execution_count": null,
   "metadata": {},
   "outputs": [],
   "source": [
    "# Interact function to loop through images\n",
    "for image_file in IMAGE_FILES:\n",
    "    interact(display_and_rotate, image_file=image_file)"
   ]
  }
 ],
 "metadata": {
  "kernelspec": {
   "display_name": "Python 3 (ipykernel)",
   "language": "python",
   "name": "python3"
  },
  "language_info": {
   "codemirror_mode": {
    "name": "ipython",
    "version": 3
   },
   "file_extension": ".py",
   "mimetype": "text/x-python",
   "name": "python",
   "nbconvert_exporter": "python",
   "pygments_lexer": "ipython3",
   "version": "3.12.4"
  }
 },
 "nbformat": 4,
 "nbformat_minor": 4
}
